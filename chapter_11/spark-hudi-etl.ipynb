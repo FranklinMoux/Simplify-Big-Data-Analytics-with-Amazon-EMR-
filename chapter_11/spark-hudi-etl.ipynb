{
 "cells": [
  {
   "cell_type": "code",
   "execution_count": 1,
   "id": "3f965294",
   "metadata": {
    "scrolled": true
   },
   "outputs": [
    {
     "data": {
      "text/html": [
       "Current session configs: <tt>{'conf': {'spark.jars': 'hdfs:///applications/hudi/lib/hudi-spark-bundle.jar,hdfs:///applications/hudi/lib/spark-avro.jar', 'spark.sql.hive.convertMetastoreParquet': 'false', 'spark.serializer': 'org.apache.spark.serializer.KryoSerializer'}, 'proxyUser': 'assumed-role_developer_missakti-Isengard', 'kind': 'pyspark'}</tt><br>"
      ],
      "text/plain": [
       "<IPython.core.display.HTML object>"
      ]
     },
     "metadata": {},
     "output_type": "display_data"
    },
    {
     "data": {
      "text/html": [
       "No active sessions."
      ],
      "text/plain": [
       "<IPython.core.display.HTML object>"
      ]
     },
     "metadata": {},
     "output_type": "display_data"
    }
   ],
   "source": [
    "%%configure -f\n",
    "{\n",
    "    \"conf\":  { \n",
    "             \"spark.jars\":\"hdfs:///applications/hudi/lib/hudi-spark-bundle.jar,hdfs:///applications/hudi/lib/spark-avro.jar\",\n",
    "             \"spark.sql.hive.convertMetastoreParquet\":\"false\",     \n",
    "             \"spark.serializer\":\"org.apache.spark.serializer.KryoSerializer\"\n",
    "           } \n",
    "}"
   ]
  },
  {
   "cell_type": "code",
   "execution_count": 2,
   "id": "14db535b",
   "metadata": {},
   "outputs": [
    {
     "data": {
      "application/vnd.jupyter.widget-view+json": {
       "model_id": "0b206ac7a3fd40f4981fafa047705e78",
       "version_major": 2,
       "version_minor": 0
      },
      "text/plain": [
       "VBox()"
      ]
     },
     "metadata": {},
     "output_type": "display_data"
    },
    {
     "name": "stdout",
     "output_type": "stream",
     "text": [
      "Starting Spark application\n"
     ]
    },
    {
     "data": {
      "text/html": [
       "<table>\n",
       "<tr><th>ID</th><th>YARN Application ID</th><th>Kind</th><th>State</th><th>Spark UI</th><th>Driver log</th><th>Current session?</th></tr><tr><td>10</td><td>application_1638650644484_0009</td><td>pyspark</td><td>idle</td><td><a target=\"_blank\" href=\"http://ip-172-31-17-96.ec2.internal:20888/proxy/application_1638650644484_0009/\" class=\"emr-proxy-link\" emr-resource=\"j-7W3QK5IU65Y2\n",
       "\" application-id=\"application_1638650644484_0009\">Link</a></td><td><a target=\"_blank\" href=\"http://ip-172-31-23-119.ec2.internal:8042/node/containerlogs/container_1638650644484_0009_01_000001/livy\" >Link</a></td><td>✔</td></tr></table>"
      ],
      "text/plain": [
       "<IPython.core.display.HTML object>"
      ]
     },
     "metadata": {},
     "output_type": "display_data"
    },
    {
     "data": {
      "application/vnd.jupyter.widget-view+json": {
       "model_id": "",
       "version_major": 2,
       "version_minor": 0
      },
      "text/plain": [
       "FloatProgress(value=0.0, bar_style='info', description='Progress:', layout=Layout(height='25px', width='50%'),…"
      ]
     },
     "metadata": {},
     "output_type": "display_data"
    },
    {
     "name": "stdout",
     "output_type": "stream",
     "text": [
      "SparkSession available as 'spark'.\n"
     ]
    },
    {
     "data": {
      "application/vnd.jupyter.widget-view+json": {
       "model_id": "",
       "version_major": 2,
       "version_minor": 0
      },
      "text/plain": [
       "FloatProgress(value=0.0, bar_style='info', description='Progress:', layout=Layout(height='25px', width='50%'),…"
      ]
     },
     "metadata": {},
     "output_type": "display_data"
    }
   ],
   "source": [
    "# Create a DataFrame that represents Product Inventory\n",
    "inputDF = spark.createDataFrame(\n",
    "    [\n",
    "        (\"100\", \"Furniture\", \"Product 1\", \"25\", \"2021-12-01T09:51:39.340396Z\"),\n",
    "        (\"101\", \"Cosmetic\", \"Product 2\", \"20\", \"2021-12-01T10:14:58.597216Z\"),\n",
    "        (\"102\", \"Furniture\", \"Product 3\", \"30\", \"2021-12-01T11:51:40.417052Z\"),\n",
    "        (\"103\", \"Electronics\", \"Product 4\", \"10\", \"2021-12-01T11:51:40.519832Z\"),\n",
    "        (\"104\", \"Electronics\", \"Product 5\", \"50\", \"2021-12-01T11:58:00.512679Z\")\n",
    "    ],\n",
    "    [\"product_id\", \"category\", \"product_name\", \"quantity_available\", \"last_update_time\"]\n",
    ")\n",
    "\n",
    "# Specify common DataSourceWriteOptions in the single hudiOptions variable\n",
    "hudiOptions = {\n",
    "'hoodie.table.name': 'product_inventory',\n",
    "'hoodie.datasource.write.recordkey.field': 'product_id',\n",
    "'hoodie.datasource.write.partitionpath.field': 'category',\n",
    "'hoodie.datasource.write.precombine.field': 'last_update_time',\n",
    "'hoodie.datasource.hive_sync.enable': 'true',\n",
    "'hoodie.datasource.hive_sync.table': 'product_inventory',\n",
    "'hoodie.datasource.hive_sync.partition_fields': 'category',\n",
    "'hoodie.datasource.hive_sync.partition_extractor_class': 'org.apache.hudi.hive.MultiPartKeysValueExtractor'\n",
    "}\n",
    "\n",
    "# Write the product Inventort DataFrame as a Hudi dataset to S3\n",
    "inputDF.write.format('org.apache.hudi') \\\n",
    ".option('hoodie.datasource.write.operation', 'insert') \\\n",
    ".options(**hudiOptions) \\\n",
    ".mode('overwrite') \\\n",
    ".save('s3://hudi-data-repository/product-inventory/')"
   ]
  },
  {
   "cell_type": "code",
   "execution_count": 3,
   "id": "8424af49",
   "metadata": {},
   "outputs": [
    {
     "data": {
      "application/vnd.jupyter.widget-view+json": {
       "model_id": "725e0d70ee2840aa825808c8c645820e",
       "version_major": 2,
       "version_minor": 0
      },
      "text/plain": [
       "VBox()"
      ]
     },
     "metadata": {},
     "output_type": "display_data"
    },
    {
     "data": {
      "application/vnd.jupyter.widget-view+json": {
       "model_id": "",
       "version_major": 2,
       "version_minor": 0
      },
      "text/plain": [
       "FloatProgress(value=0.0, bar_style='info', description='Progress:', layout=Layout(height='25px', width='50%'),…"
      ]
     },
     "metadata": {},
     "output_type": "display_data"
    },
    {
     "name": "stdout",
     "output_type": "stream",
     "text": [
      "+----------+-----------+------------+------------------+--------------------+\n",
      "|product_id|   category|product_name|quantity_available|    last_update_time|\n",
      "+----------+-----------+------------+------------------+--------------------+\n",
      "|       101|   Cosmetic|   Product 2|                20|2021-12-01T10:14:...|\n",
      "|       103|Electronics|   Product 4|                10|2021-12-01T11:51:...|\n",
      "|       104|Electronics|   Product 5|                50|2021-12-01T11:58:...|\n",
      "|       102|  Furniture|   Product 3|                30|2021-12-01T11:51:...|\n",
      "|       100|  Furniture|   Product 1|                25|2021-12-01T09:51:...|\n",
      "+----------+-----------+------------+------------------+--------------------+"
     ]
    }
   ],
   "source": [
    "# Read the Hudi dataset from S3 and validate your field output\n",
    "HudiProductDF = spark.read.format('org.apache.hudi').load('s3://hudi-data-repository/product-inventory' + '/*/*')\n",
    "HudiProductDF.select(\"product_id\", \"category\", \"product_name\", \"quantity_available\", \"last_update_time\").show()"
   ]
  },
  {
   "cell_type": "code",
   "execution_count": 4,
   "id": "b1906275",
   "metadata": {},
   "outputs": [
    {
     "data": {
      "application/vnd.jupyter.widget-view+json": {
       "model_id": "dcd8020b7777496a82f77d53cb44dcf0",
       "version_major": 2,
       "version_minor": 0
      },
      "text/plain": [
       "VBox()"
      ]
     },
     "metadata": {},
     "output_type": "display_data"
    },
    {
     "data": {
      "application/vnd.jupyter.widget-view+json": {
       "model_id": "",
       "version_major": 2,
       "version_minor": 0
      },
      "text/plain": [
       "FloatProgress(value=0.0, bar_style='info', description='Progress:', layout=Layout(height='25px', width='50%'),…"
      ]
     },
     "metadata": {},
     "output_type": "display_data"
    }
   ],
   "source": [
    "# Update quanity of product_id 102\n",
    "from pyspark.sql.functions import col,lit\n",
    "newDF = inputDF.filter(inputDF.product_id==102).withColumn('quantity_available',lit('29'))\n",
    "newDF.write \\\n",
    ".format('org.apache.hudi') \\\n",
    ".option('hoodie.datasource.write.operation', 'upsert') \\\n",
    ".options(**hudiOptions) \\\n",
    ".mode('append') \\\n",
    ".save('s3://hudi-data-repository/product-inventory/')"
   ]
  },
  {
   "cell_type": "code",
   "execution_count": 5,
   "id": "b438c7c5",
   "metadata": {},
   "outputs": [
    {
     "data": {
      "application/vnd.jupyter.widget-view+json": {
       "model_id": "ffb38c60eed24e599e8544db063c05b5",
       "version_major": 2,
       "version_minor": 0
      },
      "text/plain": [
       "VBox()"
      ]
     },
     "metadata": {},
     "output_type": "display_data"
    },
    {
     "data": {
      "application/vnd.jupyter.widget-view+json": {
       "model_id": "",
       "version_major": 2,
       "version_minor": 0
      },
      "text/plain": [
       "FloatProgress(value=0.0, bar_style='info', description='Progress:', layout=Layout(height='25px', width='50%'),…"
      ]
     },
     "metadata": {},
     "output_type": "display_data"
    }
   ],
   "source": [
    "# Delete product record with ID 101\n",
    "deleteDF = inputDF.filter(inputDF.product_id==101)\n",
    "deleteDF.write \\\n",
    ".format('org.apache.hudi') \\\n",
    ".option('hoodie.datasource.write.operation', 'upsert') \\\n",
    ".option('hoodie.datasource.write.payload.class', 'org.apache.hudi.common.model.EmptyHoodieRecordPayload') \\\n",
    ".options(**hudiOptions) \\\n",
    ".mode('append') \\\n",
    ".save('s3://hudi-data-repository/product-inventory/')     "
   ]
  },
  {
   "cell_type": "code",
   "execution_count": 6,
   "id": "6409e907",
   "metadata": {
    "scrolled": true
   },
   "outputs": [
    {
     "data": {
      "application/vnd.jupyter.widget-view+json": {
       "model_id": "87b8464aa13a46afaad9696faed91ca1",
       "version_major": 2,
       "version_minor": 0
      },
      "text/plain": [
       "VBox()"
      ]
     },
     "metadata": {},
     "output_type": "display_data"
    },
    {
     "data": {
      "application/vnd.jupyter.widget-view+json": {
       "model_id": "",
       "version_major": 2,
       "version_minor": 0
      },
      "text/plain": [
       "FloatProgress(value=0.0, bar_style='info', description='Progress:', layout=Layout(height='25px', width='50%'),…"
      ]
     },
     "metadata": {},
     "output_type": "display_data"
    },
    {
     "name": "stdout",
     "output_type": "stream",
     "text": [
      "+----------+-----------+------------+------------------+--------------------+\n",
      "|product_id|   category|product_name|quantity_available|    last_update_time|\n",
      "+----------+-----------+------------+------------------+--------------------+\n",
      "|       100|  Furniture|   Product 1|                25|2021-12-01T09:51:...|\n",
      "|       102|  Furniture|   Product 3|                29|2021-12-01T11:51:...|\n",
      "|       103|Electronics|   Product 4|                10|2021-12-01T11:51:...|\n",
      "|       104|Electronics|   Product 5|                50|2021-12-01T11:58:...|\n",
      "+----------+-----------+------------+------------------+--------------------+"
     ]
    }
   ],
   "source": [
    "# Read from S3 to validate the update and delete record\n",
    "HudiProductNewDF = spark.read.format('org.apache.hudi').load('s3://hudi-data-repository/product-inventory' + '/*/*')\n",
    "HudiProductNewDF.select(\"product_id\", \"category\", \"product_name\", \"quantity_available\", \"last_update_time\") \\\n",
    ".orderBy(\"product_id\").show()"
   ]
  },
  {
   "cell_type": "code",
   "execution_count": 7,
   "id": "4e71d5da",
   "metadata": {
    "scrolled": false
   },
   "outputs": [
    {
     "data": {
      "application/vnd.jupyter.widget-view+json": {
       "model_id": "9e54bf31335f41e2936f1a635bf35ab1",
       "version_major": 2,
       "version_minor": 0
      },
      "text/plain": [
       "VBox()"
      ]
     },
     "metadata": {},
     "output_type": "display_data"
    },
    {
     "data": {
      "application/vnd.jupyter.widget-view+json": {
       "model_id": "",
       "version_major": 2,
       "version_minor": 0
      },
      "text/plain": [
       "FloatProgress(value=0.0, bar_style='info', description='Progress:', layout=Layout(height='25px', width='50%'),…"
      ]
     },
     "metadata": {},
     "output_type": "display_data"
    },
    {
     "name": "stdout",
     "output_type": "stream",
     "text": [
      "+-------------------+--------------------+------------------+----------------------+--------------------+----------+-----------+------------+------------------+--------------------+\n",
      "|_hoodie_commit_time|_hoodie_commit_seqno|_hoodie_record_key|_hoodie_partition_path|   _hoodie_file_name|product_id|   category|product_name|quantity_available|    last_update_time|\n",
      "+-------------------+--------------------+------------------+----------------------+--------------------+----------+-----------+------------+------------------+--------------------+\n",
      "|     20211205222848|  20211205222848_1_2|               103|           Electronics|a7143310-7210-462...|       103|Electronics|   Product 4|                10|2021-12-01T11:51:...|\n",
      "|     20211205222848|  20211205222848_1_3|               104|           Electronics|a7143310-7210-462...|       104|Electronics|   Product 5|                50|2021-12-01T11:58:...|\n",
      "|     20211205225705|  20211205225705_0_1|               102|             Furniture|4c705739-be10-491...|       102|  Furniture|   Product 3|                29|2021-12-01T11:51:...|\n",
      "|     20211205222848|  20211205222848_2_4|               100|             Furniture|4c705739-be10-491...|       100|  Furniture|   Product 1|                25|2021-12-01T09:51:...|\n",
      "+-------------------+--------------------+------------------+----------------------+--------------------+----------+-----------+------------+------------------+--------------------+"
     ]
    }
   ],
   "source": [
    "# List all columns on the dataframe to showcase additional metadata fields Hudi appends\n",
    "HudiProductNewDF.show()"
   ]
  },
  {
   "cell_type": "code",
   "execution_count": 8,
   "id": "28b149a6",
   "metadata": {},
   "outputs": [
    {
     "data": {
      "application/vnd.jupyter.widget-view+json": {
       "model_id": "cdd9bcf6ffea41fc8e07c79b21aecb5a",
       "version_major": 2,
       "version_minor": 0
      },
      "text/plain": [
       "VBox()"
      ]
     },
     "metadata": {},
     "output_type": "display_data"
    },
    {
     "data": {
      "application/vnd.jupyter.widget-view+json": {
       "model_id": "",
       "version_major": 2,
       "version_minor": 0
      },
      "text/plain": [
       "FloatProgress(value=0.0, bar_style='info', description='Progress:', layout=Layout(height='25px', width='50%'),…"
      ]
     },
     "metadata": {},
     "output_type": "display_data"
    },
    {
     "name": "stdout",
     "output_type": "stream",
     "text": [
      "+-------------------+--------------------+------------------+----------------------+--------------------+----------+---------+------------+------------------+--------------------+\n",
      "|_hoodie_commit_time|_hoodie_commit_seqno|_hoodie_record_key|_hoodie_partition_path|   _hoodie_file_name|product_id| category|product_name|quantity_available|    last_update_time|\n",
      "+-------------------+--------------------+------------------+----------------------+--------------------+----------+---------+------------+------------------+--------------------+\n",
      "|     20211205225705|  20211205225705_0_1|               102|             Furniture|4c705739-be10-491...|       102|Furniture|   Product 3|                29|2021-12-01T11:51:...|\n",
      "+-------------------+--------------------+------------------+----------------------+--------------------+----------+---------+------------+------------------+--------------------+"
     ]
    }
   ],
   "source": [
    "# Incremental query output, that fetches change data beyond certain time\n",
    "incrementalQueryOptions = {\n",
    "  'hoodie.datasource.query.type': 'incremental',\n",
    "  'hoodie.datasource.read.begin.instanttime': \"20211205222848\",\n",
    "}\n",
    "incQueryDF = spark.read.format('org.apache.hudi').options(**incrementalQueryOptions) \\\n",
    ".load('s3://hudi-data-repository/product-inventory') \n",
    "incQueryDF.show()"
   ]
  }
 ],
 "metadata": {
  "kernelspec": {
   "display_name": "PySpark",
   "language": "",
   "name": "pysparkkernel"
  },
  "language_info": {
   "codemirror_mode": {
    "name": "python",
    "version": 3
   },
   "mimetype": "text/x-python",
   "name": "pyspark",
   "pygments_lexer": "python3"
  }
 },
 "nbformat": 4,
 "nbformat_minor": 5
}
